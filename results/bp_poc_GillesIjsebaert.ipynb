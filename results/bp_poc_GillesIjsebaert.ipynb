{
  "cells": [
    {
      "cell_type": "markdown",
      "metadata": {
        "id": "3bc7V3d72laT"
      },
      "source": [
        "# Bachelorproef proof of concept Gilles Ijsebaert"
      ]
    },
    {
      "cell_type": "markdown",
      "metadata": {
        "id": "4pjP7eCe2laW"
      },
      "source": [
        "## Import packages"
      ]
    },
    {
      "cell_type": "code",
      "execution_count": 1,
      "metadata": {
        "id": "V2xnd4SYyHwY"
      },
      "outputs": [],
      "source": [
        "import numpy as np                                  # \"Scientific computing\"\n",
        "import scipy.stats as stats                         # Statistical tests\n",
        "\n",
        "import pandas as pd                                 # Data Frame\n",
        "from pandas.api.types import CategoricalDtype\n",
        "\n",
        "import matplotlib.pyplot as plt                     # Basic visualisation\n",
        "from statsmodels.graphics.mosaicplot import mosaic  # Mosaic diagram\n",
        "import seaborn as sns                               # Advanced data visualisation\n",
        "import altair as alt                                # Alternative visualisation system"
      ]
    },
    {
      "cell_type": "markdown",
      "metadata": {
        "id": "MbOc-63d2laa"
      },
      "source": [
        "## Import all CSV data"
      ]
    },
    {
      "cell_type": "code",
      "execution_count": 57,
      "metadata": {
        "id": "fa1vmhZ82lab"
      },
      "outputs": [],
      "source": [
        "idleRun1Coolify = pd.read_csv('https://raw.githubusercontent.com/gijsebaert/bp-poc-GillesIjsebaert/main/results/idleRun1Coolify.csv', decimal='.', delimiter=',').set_index(['time'])\n",
        "\n",
        "idleRun2Coolify = pd.read_csv('https://raw.githubusercontent.com/gijsebaert/bp-poc-GillesIjsebaert/main/results/idleRun2Coolify.csv', decimal='.', delimiter=',').set_index(['time'])\n",
        "\n",
        "idleRun3Coolify = pd.read_csv('https://raw.githubusercontent.com/gijsebaert/bp-poc-GillesIjsebaert/main/results/idleRun3Coolify.csv', decimal='.', delimiter=',').set_index(['time'])\n",
        "\n",
        "idleRunCoolify = pd.concat(map(pd.read_csv, ['https://raw.githubusercontent.com/gijsebaert/bp-poc-GillesIjsebaert/main/results/idleRun1Coolify.csv', 'https://raw.githubusercontent.com/gijsebaert/bp-poc-GillesIjsebaert/main/results/idleRun2Coolify.csv', 'https://raw.githubusercontent.com/gijsebaert/bp-poc-GillesIjsebaert/main/results/idleRun3Coolify.csv'])).set_index(['time'])"
      ]
    },
    {
      "cell_type": "code",
      "execution_count": 58,
      "metadata": {
        "id": "W_q279xt2lac"
      },
      "outputs": [],
      "source": [
        "idleRun1OpenStack = pd.read_csv('https://raw.githubusercontent.com/gijsebaert/bp-poc-GillesIjsebaert/main/results/idleRun1OpenStack.csv', decimal='.', delimiter=',').set_index(['time'])\n",
        "\n",
        "idleRun2OpenStack = pd.read_csv('https://raw.githubusercontent.com/gijsebaert/bp-poc-GillesIjsebaert/main/results/idleRun2OpenStack.csv', decimal='.', delimiter=',').set_index(['time'])\n",
        "\n",
        "idleRun3OpenStack = pd.read_csv('https://raw.githubusercontent.com/gijsebaert/bp-poc-GillesIjsebaert/main/results/idleRun3OpenStack.csv', decimal='.', delimiter=',').set_index(['time'])\n",
        "\n",
        "idleRunOpenStack = pd.concat(map(pd.read_csv, ['https://raw.githubusercontent.com/gijsebaert/bp-poc-GillesIjsebaert/main/results/idleRun1OpenStack.csv', 'https://raw.githubusercontent.com/gijsebaert/bp-poc-GillesIjsebaert/main/results/idleRun2OpenStack.csv', 'https://raw.githubusercontent.com/gijsebaert/bp-poc-GillesIjsebaert/main/results/idleRun3OpenStack.csv'])).set_index(['time'])"
      ]
    },
    {
      "cell_type": "code",
      "execution_count": 130,
      "metadata": {
        "id": "_eAYxbd-2lac"
      },
      "outputs": [],
      "source": [
        "instanceCreation1Coolify = pd.read_csv('https://raw.githubusercontent.com/gijsebaert/bp-poc-GillesIjsebaert/main/results/instanceCreation1Coolify.csv', decimal='.', delimiter=',').set_index(['time'])\n",
        "\n",
        "instanceCreation2Coolify = pd.read_csv('https://raw.githubusercontent.com/gijsebaert/bp-poc-GillesIjsebaert/main/results/instanceCreation2Coolify.csv', decimal='.', delimiter=',').set_index(['time'])\n",
        "\n",
        "instanceCreation3Coolify = pd.read_csv('https://raw.githubusercontent.com/gijsebaert/bp-poc-GillesIjsebaert/main/results/instanceCreation3Coolify.csv', decimal='.', delimiter=',').set_index(['time'])\n",
        "\n",
        "instanceCreationCoolify = pd.concat(map(pd.read_csv, ['https://raw.githubusercontent.com/gijsebaert/bp-poc-GillesIjsebaert/main/results/instanceCreation1Coolify.csv', 'https://raw.githubusercontent.com/gijsebaert/bp-poc-GillesIjsebaert/main/results/instanceCreation2Coolify.csv', 'https://raw.githubusercontent.com/gijsebaert/bp-poc-GillesIjsebaert/main/results/instanceCreation3Coolify.csv']))"
      ]
    },
    {
      "cell_type": "code",
      "execution_count": 118,
      "metadata": {
        "id": "do8HGqzg2lad"
      },
      "outputs": [],
      "source": [
        "instanceCreation1OpenStack = pd.read_csv('https://raw.githubusercontent.com/gijsebaert/bp-poc-GillesIjsebaert/main/results/InstanceCreation1OpenStack.csv', decimal='.', delimiter=',').set_index(['time'])\n",
        "\n",
        "instanceCreation2OpenStack = pd.read_csv('https://raw.githubusercontent.com/gijsebaert/bp-poc-GillesIjsebaert/main/results/InstanceCreation2OpenStack.csv', decimal='.', delimiter=',').set_index(['time'])\n",
        "\n",
        "instanceCreation3OpenStack = pd.read_csv('https://raw.githubusercontent.com/gijsebaert/bp-poc-GillesIjsebaert/main/results/InstanceCreation3OpenStack.csv', decimal='.', delimiter=',').set_index(['time'])\n",
        "\n",
        "instanceCreationOpenStack = pd.concat(map(pd.read_csv, ['https://raw.githubusercontent.com/gijsebaert/bp-poc-GillesIjsebaert/main/results/InstanceCreation1OpenStack.csv', 'https://raw.githubusercontent.com/gijsebaert/bp-poc-GillesIjsebaert/main/results/InstanceCreation2OpenStack.csv', 'https://raw.githubusercontent.com/gijsebaert/bp-poc-GillesIjsebaert/main/results/InstanceCreation3OpenStack.csv'])).set_index(['time'])"
      ]
    },
    {
      "cell_type": "markdown",
      "metadata": {
        "id": "fws1XKmF-vM7"
      },
      "source": [
        "## Data"
      ]
    },
    {
      "cell_type": "code",
      "execution_count": 81,
      "metadata": {
        "colab": {
          "base_uri": "https://localhost:8080/"
        },
        "id": "E4rumNH-_Owh",
        "outputId": "fe0a1b40-8469-4fe4-f6e4-bc582147e1a7"
      },
      "outputs": [
        {
          "name": "stdout",
          "output_type": "stream",
          "text": [
            "CPU usage\n",
            "\n",
            "Coolify running idle\n",
            "mean : 0.9000000000000002\n",
            "std : 2.2224348056268127e-16\n",
            "max : 0.9\n",
            "Coolify running instance\n",
            "mean : 3.4653386454183273\n",
            "std : 1.6435187205689377\n",
            "max : 7.9\n",
            "OpenStack running idle\n",
            "mean : 0.7000000000000002\n",
            "std : 2.222471080267863e-16\n",
            "max : 0.7\n",
            "OpenStack running instance\n",
            "mean : 77.5617702448211\n",
            "std : 31.813861163702523\n",
            "max : 100.0\n",
            "\n",
            "\n",
            "RAM usage\n",
            "\n",
            "Coolify running idle\n",
            "mean : 2.1999999999999997\n",
            "std : 4.444869611253625e-16\n",
            "max : 2.2\n",
            "Coolify running instance\n",
            "mean : 9.946613545816735\n",
            "std : 0.5539119840333632\n",
            "max : 10.4\n",
            "OpenStack running idle\n",
            "mean : 0.1814207650273224\n",
            "std : 0.04852743605197608\n",
            "max : 0.3\n",
            "OpenStack running instance\n",
            "mean : 7.389453860640302\n",
            "std : 5.061422900394782\n",
            "max : 14.9\n"
          ]
        }
      ],
      "source": [
        "print(f\"CPU usage\\n\")\n",
        "\n",
        "print(f\"Coolify running idle\")\n",
        "print(f\"mean : {idleRunCoolify['cpu'].mean()}\")\n",
        "print(f\"std : {idleRunCoolify['cpu'].std()}\")\n",
        "print(f\"max : {idleRunCoolify['cpu'].max()}\")\n",
        "\n",
        "print(f\"Coolify running instance\")\n",
        "print(f\"mean : {instanceCreationCoolify['cpu'].mean()}\")\n",
        "print(f\"std : {instanceCreationCoolify['cpu'].std()}\")\n",
        "print(f\"max : {instanceCreationCoolify['cpu'].max()}\")\n",
        "\n",
        "print(f\"OpenStack running idle\")\n",
        "print(f\"mean : {idleRunOpenStack['cpu'].mean()}\")\n",
        "print(f\"std : {idleRunOpenStack['cpu'].std()}\")\n",
        "print(f\"max : {idleRunOpenStack['cpu'].max()}\")\n",
        "\n",
        "print(f\"OpenStack running instance\")\n",
        "print(f\"mean : {instanceCreationOpenStack['cpu'].mean()}\")\n",
        "print(f\"std : {instanceCreationOpenStack['cpu'].std()}\")\n",
        "print(f\"max : {instanceCreationOpenStack['cpu'].max()}\")\n",
        "\n",
        "print(f\"\\n\\nRAM usage\\n\")\n",
        "\n",
        "print(f\"Coolify running idle\")\n",
        "print(f\"mean : {idleRunCoolify['ram'].mean()}\")\n",
        "print(f\"std : {idleRunCoolify['ram'].std()}\")\n",
        "print(f\"max : {idleRunCoolify['ram'].max()}\")\n",
        "\n",
        "print(f\"Coolify running instance\")\n",
        "print(f\"mean : {instanceCreationCoolify['ram'].mean()}\")\n",
        "print(f\"std : {instanceCreationCoolify['ram'].std()}\")\n",
        "print(f\"max : {instanceCreationCoolify['ram'].max()}\")\n",
        "\n",
        "print(f\"OpenStack running idle\")\n",
        "print(f\"mean : {idleRunOpenStack['ram'].mean()}\")\n",
        "print(f\"std : {idleRunOpenStack['ram'].std()}\")\n",
        "print(f\"max : {idleRunOpenStack['ram'].max()}\")\n",
        "\n",
        "print(f\"OpenStack running instance\")\n",
        "print(f\"mean : {instanceCreationOpenStack['ram'].mean()}\")\n",
        "print(f\"std : {instanceCreationOpenStack['ram'].std()}\")\n",
        "print(f\"max : {instanceCreationOpenStack['ram'].max()}\")"
      ]
    }
  ],
  "metadata": {
    "colab": {
      "provenance": []
    },
    "kernelspec": {
      "display_name": "Python 3",
      "language": "python",
      "name": "python3"
    },
    "language_info": {
      "codemirror_mode": {
        "name": "ipython",
        "version": 3
      },
      "file_extension": ".py",
      "mimetype": "text/x-python",
      "name": "python",
      "nbconvert_exporter": "python",
      "pygments_lexer": "ipython3",
      "version": "3.11.0"
    },
    "vscode": {
      "interpreter": {
        "hash": "c261aea317cc0286b3b3261fbba9abdec21eaa57589985bb7a274bf54d6cc0a7"
      }
    }
  },
  "nbformat": 4,
  "nbformat_minor": 0
}
